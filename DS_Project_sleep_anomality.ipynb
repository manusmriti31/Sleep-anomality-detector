{
  "nbformat": 4,
  "nbformat_minor": 0,
  "metadata": {
    "colab": {
      "provenance": [],
      "authorship_tag": "ABX9TyMjs8m3Me9N4CvAOoTwv6vw",
      "include_colab_link": true
    },
    "kernelspec": {
      "name": "python3",
      "display_name": "Python 3"
    },
    "language_info": {
      "name": "python"
    }
  },
  "cells": [
    {
      "cell_type": "markdown",
      "metadata": {
        "id": "view-in-github",
        "colab_type": "text"
      },
      "source": [
        "<a href=\"https://colab.research.google.com/github/manusmriti31/Sleep-anomality-detector/blob/main/DS_Project_sleep_anomality.ipynb\" target=\"_parent\"><img src=\"https://colab.research.google.com/assets/colab-badge.svg\" alt=\"Open In Colab\"/></a>"
      ]
    },
    {
      "cell_type": "markdown",
      "source": [
        "# Sleep disorder prediction"
      ],
      "metadata": {
        "id": "p_MrQ-bgpJtE"
      }
    },
    {
      "cell_type": "markdown",
      "source": [
        "### 1. Importing the `dataset.csv`"
      ],
      "metadata": {
        "id": "unS8AONAqVQU"
      }
    },
    {
      "cell_type": "code",
      "source": [
        "# Step 1: Load the dataset\n",
        "import pandas as pd\n",
        "import requests\n",
        "from pathlib import Path\n",
        "\n",
        "if Path(\"dataset.csv\").is_file():\n",
        "  print(\"Dataset already exists, skipping download\")\n",
        "else:\n",
        "  print(\"Downloading helper function....\")\n",
        "  request = requests.get(\"https://github.com/lisstasy/sleep_disorder_prediction/raw/refs/heads/main/data.csv\")\n",
        "  with open(\"dataset.csv\", \"wb\") as f:\n",
        "    f.write(request.content)\n",
        "\n",
        "\n",
        "# Replace 'your_dataset_link.csv' with the actual link to download the dataset\n",
        "data = pd.read_csv('dataset.csv')\n",
        "data.head()\n",
        "data.info()\n"
      ],
      "metadata": {
        "colab": {
          "base_uri": "https://localhost:8080/"
        },
        "id": "xyjvArrup-T6",
        "outputId": "7f605df7-f229-43c6-f42e-efa52548f254"
      },
      "execution_count": 6,
      "outputs": [
        {
          "output_type": "stream",
          "name": "stdout",
          "text": [
            "Dataset already exists, skipping download\n",
            "<class 'pandas.core.frame.DataFrame'>\n",
            "RangeIndex: 374 entries, 0 to 373\n",
            "Data columns (total 13 columns):\n",
            " #   Column                   Non-Null Count  Dtype  \n",
            "---  ------                   --------------  -----  \n",
            " 0   Person ID                374 non-null    int64  \n",
            " 1   Gender                   374 non-null    object \n",
            " 2   Age                      374 non-null    int64  \n",
            " 3   Occupation               374 non-null    object \n",
            " 4   Sleep Duration           374 non-null    float64\n",
            " 5   Quality of Sleep         374 non-null    int64  \n",
            " 6   Physical Activity Level  374 non-null    int64  \n",
            " 7   Stress Level             374 non-null    int64  \n",
            " 8   BMI Category             374 non-null    object \n",
            " 9   Blood Pressure           374 non-null    object \n",
            " 10  Heart Rate               374 non-null    int64  \n",
            " 11  Daily Steps              374 non-null    int64  \n",
            " 12  Sleep Disorder           155 non-null    object \n",
            "dtypes: float64(1), int64(7), object(5)\n",
            "memory usage: 38.1+ KB\n"
          ]
        }
      ]
    },
    {
      "cell_type": "markdown",
      "source": [
        "### 2. Data Analysis"
      ],
      "metadata": {
        "id": "oeUlVQK3qN1Y"
      }
    },
    {
      "cell_type": "code",
      "source": [
        "import pprint\n",
        "\n",
        "# descriptive statistics\n",
        "describe_stats = data.describe()\n",
        "\n",
        "# Unique values in each categorical colum\n",
        "unique_values = {}\n",
        "cat_columns = ['Gender', 'Occupation', 'BMI Category', 'Sleep Disorder']\n",
        "for col in cat_columns:\n",
        "  unique_values[col] = data[col].unique()\n",
        "\n",
        "display(describe_stats)\n",
        "\n",
        "print()\n",
        "for key, value in unique_values.items():\n",
        "  print(f\"{key}: {value}\\n\")\n"
      ],
      "metadata": {
        "colab": {
          "base_uri": "https://localhost:8080/",
          "height": 509
        },
        "id": "fcyvVTokqgbK",
        "outputId": "c97ff93a-6ac3-4317-a149-6908247120e8"
      },
      "execution_count": 7,
      "outputs": [
        {
          "output_type": "display_data",
          "data": {
            "text/plain": [
              "        Person ID         Age  Sleep Duration  Quality of Sleep  \\\n",
              "count  374.000000  374.000000      374.000000        374.000000   \n",
              "mean   187.500000   42.184492        7.132086          7.312834   \n",
              "std    108.108742    8.673133        0.795657          1.196956   \n",
              "min      1.000000   27.000000        5.800000          4.000000   \n",
              "25%     94.250000   35.250000        6.400000          6.000000   \n",
              "50%    187.500000   43.000000        7.200000          7.000000   \n",
              "75%    280.750000   50.000000        7.800000          8.000000   \n",
              "max    374.000000   59.000000        8.500000          9.000000   \n",
              "\n",
              "       Physical Activity Level  Stress Level  Heart Rate   Daily Steps  \n",
              "count               374.000000    374.000000  374.000000    374.000000  \n",
              "mean                 59.171123      5.385027   70.165775   6816.844920  \n",
              "std                  20.830804      1.774526    4.135676   1617.915679  \n",
              "min                  30.000000      3.000000   65.000000   3000.000000  \n",
              "25%                  45.000000      4.000000   68.000000   5600.000000  \n",
              "50%                  60.000000      5.000000   70.000000   7000.000000  \n",
              "75%                  75.000000      7.000000   72.000000   8000.000000  \n",
              "max                  90.000000      8.000000   86.000000  10000.000000  "
            ],
            "text/html": [
              "\n",
              "  <div id=\"df-407e7f14-4ea7-4405-a4f2-85954790f6ea\" class=\"colab-df-container\">\n",
              "    <div>\n",
              "<style scoped>\n",
              "    .dataframe tbody tr th:only-of-type {\n",
              "        vertical-align: middle;\n",
              "    }\n",
              "\n",
              "    .dataframe tbody tr th {\n",
              "        vertical-align: top;\n",
              "    }\n",
              "\n",
              "    .dataframe thead th {\n",
              "        text-align: right;\n",
              "    }\n",
              "</style>\n",
              "<table border=\"1\" class=\"dataframe\">\n",
              "  <thead>\n",
              "    <tr style=\"text-align: right;\">\n",
              "      <th></th>\n",
              "      <th>Person ID</th>\n",
              "      <th>Age</th>\n",
              "      <th>Sleep Duration</th>\n",
              "      <th>Quality of Sleep</th>\n",
              "      <th>Physical Activity Level</th>\n",
              "      <th>Stress Level</th>\n",
              "      <th>Heart Rate</th>\n",
              "      <th>Daily Steps</th>\n",
              "    </tr>\n",
              "  </thead>\n",
              "  <tbody>\n",
              "    <tr>\n",
              "      <th>count</th>\n",
              "      <td>374.000000</td>\n",
              "      <td>374.000000</td>\n",
              "      <td>374.000000</td>\n",
              "      <td>374.000000</td>\n",
              "      <td>374.000000</td>\n",
              "      <td>374.000000</td>\n",
              "      <td>374.000000</td>\n",
              "      <td>374.000000</td>\n",
              "    </tr>\n",
              "    <tr>\n",
              "      <th>mean</th>\n",
              "      <td>187.500000</td>\n",
              "      <td>42.184492</td>\n",
              "      <td>7.132086</td>\n",
              "      <td>7.312834</td>\n",
              "      <td>59.171123</td>\n",
              "      <td>5.385027</td>\n",
              "      <td>70.165775</td>\n",
              "      <td>6816.844920</td>\n",
              "    </tr>\n",
              "    <tr>\n",
              "      <th>std</th>\n",
              "      <td>108.108742</td>\n",
              "      <td>8.673133</td>\n",
              "      <td>0.795657</td>\n",
              "      <td>1.196956</td>\n",
              "      <td>20.830804</td>\n",
              "      <td>1.774526</td>\n",
              "      <td>4.135676</td>\n",
              "      <td>1617.915679</td>\n",
              "    </tr>\n",
              "    <tr>\n",
              "      <th>min</th>\n",
              "      <td>1.000000</td>\n",
              "      <td>27.000000</td>\n",
              "      <td>5.800000</td>\n",
              "      <td>4.000000</td>\n",
              "      <td>30.000000</td>\n",
              "      <td>3.000000</td>\n",
              "      <td>65.000000</td>\n",
              "      <td>3000.000000</td>\n",
              "    </tr>\n",
              "    <tr>\n",
              "      <th>25%</th>\n",
              "      <td>94.250000</td>\n",
              "      <td>35.250000</td>\n",
              "      <td>6.400000</td>\n",
              "      <td>6.000000</td>\n",
              "      <td>45.000000</td>\n",
              "      <td>4.000000</td>\n",
              "      <td>68.000000</td>\n",
              "      <td>5600.000000</td>\n",
              "    </tr>\n",
              "    <tr>\n",
              "      <th>50%</th>\n",
              "      <td>187.500000</td>\n",
              "      <td>43.000000</td>\n",
              "      <td>7.200000</td>\n",
              "      <td>7.000000</td>\n",
              "      <td>60.000000</td>\n",
              "      <td>5.000000</td>\n",
              "      <td>70.000000</td>\n",
              "      <td>7000.000000</td>\n",
              "    </tr>\n",
              "    <tr>\n",
              "      <th>75%</th>\n",
              "      <td>280.750000</td>\n",
              "      <td>50.000000</td>\n",
              "      <td>7.800000</td>\n",
              "      <td>8.000000</td>\n",
              "      <td>75.000000</td>\n",
              "      <td>7.000000</td>\n",
              "      <td>72.000000</td>\n",
              "      <td>8000.000000</td>\n",
              "    </tr>\n",
              "    <tr>\n",
              "      <th>max</th>\n",
              "      <td>374.000000</td>\n",
              "      <td>59.000000</td>\n",
              "      <td>8.500000</td>\n",
              "      <td>9.000000</td>\n",
              "      <td>90.000000</td>\n",
              "      <td>8.000000</td>\n",
              "      <td>86.000000</td>\n",
              "      <td>10000.000000</td>\n",
              "    </tr>\n",
              "  </tbody>\n",
              "</table>\n",
              "</div>\n",
              "    <div class=\"colab-df-buttons\">\n",
              "\n",
              "  <div class=\"colab-df-container\">\n",
              "    <button class=\"colab-df-convert\" onclick=\"convertToInteractive('df-407e7f14-4ea7-4405-a4f2-85954790f6ea')\"\n",
              "            title=\"Convert this dataframe to an interactive table.\"\n",
              "            style=\"display:none;\">\n",
              "\n",
              "  <svg xmlns=\"http://www.w3.org/2000/svg\" height=\"24px\" viewBox=\"0 -960 960 960\">\n",
              "    <path d=\"M120-120v-720h720v720H120Zm60-500h600v-160H180v160Zm220 220h160v-160H400v160Zm0 220h160v-160H400v160ZM180-400h160v-160H180v160Zm440 0h160v-160H620v160ZM180-180h160v-160H180v160Zm440 0h160v-160H620v160Z\"/>\n",
              "  </svg>\n",
              "    </button>\n",
              "\n",
              "  <style>\n",
              "    .colab-df-container {\n",
              "      display:flex;\n",
              "      gap: 12px;\n",
              "    }\n",
              "\n",
              "    .colab-df-convert {\n",
              "      background-color: #E8F0FE;\n",
              "      border: none;\n",
              "      border-radius: 50%;\n",
              "      cursor: pointer;\n",
              "      display: none;\n",
              "      fill: #1967D2;\n",
              "      height: 32px;\n",
              "      padding: 0 0 0 0;\n",
              "      width: 32px;\n",
              "    }\n",
              "\n",
              "    .colab-df-convert:hover {\n",
              "      background-color: #E2EBFA;\n",
              "      box-shadow: 0px 1px 2px rgba(60, 64, 67, 0.3), 0px 1px 3px 1px rgba(60, 64, 67, 0.15);\n",
              "      fill: #174EA6;\n",
              "    }\n",
              "\n",
              "    .colab-df-buttons div {\n",
              "      margin-bottom: 4px;\n",
              "    }\n",
              "\n",
              "    [theme=dark] .colab-df-convert {\n",
              "      background-color: #3B4455;\n",
              "      fill: #D2E3FC;\n",
              "    }\n",
              "\n",
              "    [theme=dark] .colab-df-convert:hover {\n",
              "      background-color: #434B5C;\n",
              "      box-shadow: 0px 1px 3px 1px rgba(0, 0, 0, 0.15);\n",
              "      filter: drop-shadow(0px 1px 2px rgba(0, 0, 0, 0.3));\n",
              "      fill: #FFFFFF;\n",
              "    }\n",
              "  </style>\n",
              "\n",
              "    <script>\n",
              "      const buttonEl =\n",
              "        document.querySelector('#df-407e7f14-4ea7-4405-a4f2-85954790f6ea button.colab-df-convert');\n",
              "      buttonEl.style.display =\n",
              "        google.colab.kernel.accessAllowed ? 'block' : 'none';\n",
              "\n",
              "      async function convertToInteractive(key) {\n",
              "        const element = document.querySelector('#df-407e7f14-4ea7-4405-a4f2-85954790f6ea');\n",
              "        const dataTable =\n",
              "          await google.colab.kernel.invokeFunction('convertToInteractive',\n",
              "                                                    [key], {});\n",
              "        if (!dataTable) return;\n",
              "\n",
              "        const docLinkHtml = 'Like what you see? Visit the ' +\n",
              "          '<a target=\"_blank\" href=https://colab.research.google.com/notebooks/data_table.ipynb>data table notebook</a>'\n",
              "          + ' to learn more about interactive tables.';\n",
              "        element.innerHTML = '';\n",
              "        dataTable['output_type'] = 'display_data';\n",
              "        await google.colab.output.renderOutput(dataTable, element);\n",
              "        const docLink = document.createElement('div');\n",
              "        docLink.innerHTML = docLinkHtml;\n",
              "        element.appendChild(docLink);\n",
              "      }\n",
              "    </script>\n",
              "  </div>\n",
              "\n",
              "\n",
              "<div id=\"df-029ea5cf-cbc1-4952-a75c-147dbd694bcd\">\n",
              "  <button class=\"colab-df-quickchart\" onclick=\"quickchart('df-029ea5cf-cbc1-4952-a75c-147dbd694bcd')\"\n",
              "            title=\"Suggest charts\"\n",
              "            style=\"display:none;\">\n",
              "\n",
              "<svg xmlns=\"http://www.w3.org/2000/svg\" height=\"24px\"viewBox=\"0 0 24 24\"\n",
              "     width=\"24px\">\n",
              "    <g>\n",
              "        <path d=\"M19 3H5c-1.1 0-2 .9-2 2v14c0 1.1.9 2 2 2h14c1.1 0 2-.9 2-2V5c0-1.1-.9-2-2-2zM9 17H7v-7h2v7zm4 0h-2V7h2v10zm4 0h-2v-4h2v4z\"/>\n",
              "    </g>\n",
              "</svg>\n",
              "  </button>\n",
              "\n",
              "<style>\n",
              "  .colab-df-quickchart {\n",
              "      --bg-color: #E8F0FE;\n",
              "      --fill-color: #1967D2;\n",
              "      --hover-bg-color: #E2EBFA;\n",
              "      --hover-fill-color: #174EA6;\n",
              "      --disabled-fill-color: #AAA;\n",
              "      --disabled-bg-color: #DDD;\n",
              "  }\n",
              "\n",
              "  [theme=dark] .colab-df-quickchart {\n",
              "      --bg-color: #3B4455;\n",
              "      --fill-color: #D2E3FC;\n",
              "      --hover-bg-color: #434B5C;\n",
              "      --hover-fill-color: #FFFFFF;\n",
              "      --disabled-bg-color: #3B4455;\n",
              "      --disabled-fill-color: #666;\n",
              "  }\n",
              "\n",
              "  .colab-df-quickchart {\n",
              "    background-color: var(--bg-color);\n",
              "    border: none;\n",
              "    border-radius: 50%;\n",
              "    cursor: pointer;\n",
              "    display: none;\n",
              "    fill: var(--fill-color);\n",
              "    height: 32px;\n",
              "    padding: 0;\n",
              "    width: 32px;\n",
              "  }\n",
              "\n",
              "  .colab-df-quickchart:hover {\n",
              "    background-color: var(--hover-bg-color);\n",
              "    box-shadow: 0 1px 2px rgba(60, 64, 67, 0.3), 0 1px 3px 1px rgba(60, 64, 67, 0.15);\n",
              "    fill: var(--button-hover-fill-color);\n",
              "  }\n",
              "\n",
              "  .colab-df-quickchart-complete:disabled,\n",
              "  .colab-df-quickchart-complete:disabled:hover {\n",
              "    background-color: var(--disabled-bg-color);\n",
              "    fill: var(--disabled-fill-color);\n",
              "    box-shadow: none;\n",
              "  }\n",
              "\n",
              "  .colab-df-spinner {\n",
              "    border: 2px solid var(--fill-color);\n",
              "    border-color: transparent;\n",
              "    border-bottom-color: var(--fill-color);\n",
              "    animation:\n",
              "      spin 1s steps(1) infinite;\n",
              "  }\n",
              "\n",
              "  @keyframes spin {\n",
              "    0% {\n",
              "      border-color: transparent;\n",
              "      border-bottom-color: var(--fill-color);\n",
              "      border-left-color: var(--fill-color);\n",
              "    }\n",
              "    20% {\n",
              "      border-color: transparent;\n",
              "      border-left-color: var(--fill-color);\n",
              "      border-top-color: var(--fill-color);\n",
              "    }\n",
              "    30% {\n",
              "      border-color: transparent;\n",
              "      border-left-color: var(--fill-color);\n",
              "      border-top-color: var(--fill-color);\n",
              "      border-right-color: var(--fill-color);\n",
              "    }\n",
              "    40% {\n",
              "      border-color: transparent;\n",
              "      border-right-color: var(--fill-color);\n",
              "      border-top-color: var(--fill-color);\n",
              "    }\n",
              "    60% {\n",
              "      border-color: transparent;\n",
              "      border-right-color: var(--fill-color);\n",
              "    }\n",
              "    80% {\n",
              "      border-color: transparent;\n",
              "      border-right-color: var(--fill-color);\n",
              "      border-bottom-color: var(--fill-color);\n",
              "    }\n",
              "    90% {\n",
              "      border-color: transparent;\n",
              "      border-bottom-color: var(--fill-color);\n",
              "    }\n",
              "  }\n",
              "</style>\n",
              "\n",
              "  <script>\n",
              "    async function quickchart(key) {\n",
              "      const quickchartButtonEl =\n",
              "        document.querySelector('#' + key + ' button');\n",
              "      quickchartButtonEl.disabled = true;  // To prevent multiple clicks.\n",
              "      quickchartButtonEl.classList.add('colab-df-spinner');\n",
              "      try {\n",
              "        const charts = await google.colab.kernel.invokeFunction(\n",
              "            'suggestCharts', [key], {});\n",
              "      } catch (error) {\n",
              "        console.error('Error during call to suggestCharts:', error);\n",
              "      }\n",
              "      quickchartButtonEl.classList.remove('colab-df-spinner');\n",
              "      quickchartButtonEl.classList.add('colab-df-quickchart-complete');\n",
              "    }\n",
              "    (() => {\n",
              "      let quickchartButtonEl =\n",
              "        document.querySelector('#df-029ea5cf-cbc1-4952-a75c-147dbd694bcd button');\n",
              "      quickchartButtonEl.style.display =\n",
              "        google.colab.kernel.accessAllowed ? 'block' : 'none';\n",
              "    })();\n",
              "  </script>\n",
              "</div>\n",
              "\n",
              "  <div id=\"id_665f4925-8740-4500-8c7f-05d0cb6df1cb\">\n",
              "    <style>\n",
              "      .colab-df-generate {\n",
              "        background-color: #E8F0FE;\n",
              "        border: none;\n",
              "        border-radius: 50%;\n",
              "        cursor: pointer;\n",
              "        display: none;\n",
              "        fill: #1967D2;\n",
              "        height: 32px;\n",
              "        padding: 0 0 0 0;\n",
              "        width: 32px;\n",
              "      }\n",
              "\n",
              "      .colab-df-generate:hover {\n",
              "        background-color: #E2EBFA;\n",
              "        box-shadow: 0px 1px 2px rgba(60, 64, 67, 0.3), 0px 1px 3px 1px rgba(60, 64, 67, 0.15);\n",
              "        fill: #174EA6;\n",
              "      }\n",
              "\n",
              "      [theme=dark] .colab-df-generate {\n",
              "        background-color: #3B4455;\n",
              "        fill: #D2E3FC;\n",
              "      }\n",
              "\n",
              "      [theme=dark] .colab-df-generate:hover {\n",
              "        background-color: #434B5C;\n",
              "        box-shadow: 0px 1px 3px 1px rgba(0, 0, 0, 0.15);\n",
              "        filter: drop-shadow(0px 1px 2px rgba(0, 0, 0, 0.3));\n",
              "        fill: #FFFFFF;\n",
              "      }\n",
              "    </style>\n",
              "    <button class=\"colab-df-generate\" onclick=\"generateWithVariable('describe_stats')\"\n",
              "            title=\"Generate code using this dataframe.\"\n",
              "            style=\"display:none;\">\n",
              "\n",
              "  <svg xmlns=\"http://www.w3.org/2000/svg\" height=\"24px\"viewBox=\"0 0 24 24\"\n",
              "       width=\"24px\">\n",
              "    <path d=\"M7,19H8.4L18.45,9,17,7.55,7,17.6ZM5,21V16.75L18.45,3.32a2,2,0,0,1,2.83,0l1.4,1.43a1.91,1.91,0,0,1,.58,1.4,1.91,1.91,0,0,1-.58,1.4L9.25,21ZM18.45,9,17,7.55Zm-12,3A5.31,5.31,0,0,0,4.9,8.1,5.31,5.31,0,0,0,1,6.5,5.31,5.31,0,0,0,4.9,4.9,5.31,5.31,0,0,0,6.5,1,5.31,5.31,0,0,0,8.1,4.9,5.31,5.31,0,0,0,12,6.5,5.46,5.46,0,0,0,6.5,12Z\"/>\n",
              "  </svg>\n",
              "    </button>\n",
              "    <script>\n",
              "      (() => {\n",
              "      const buttonEl =\n",
              "        document.querySelector('#id_665f4925-8740-4500-8c7f-05d0cb6df1cb button.colab-df-generate');\n",
              "      buttonEl.style.display =\n",
              "        google.colab.kernel.accessAllowed ? 'block' : 'none';\n",
              "\n",
              "      buttonEl.onclick = () => {\n",
              "        google.colab.notebook.generateWithVariable('describe_stats');\n",
              "      }\n",
              "      })();\n",
              "    </script>\n",
              "  </div>\n",
              "\n",
              "    </div>\n",
              "  </div>\n"
            ],
            "application/vnd.google.colaboratory.intrinsic+json": {
              "type": "dataframe",
              "variable_name": "describe_stats",
              "summary": "{\n  \"name\": \"describe_stats\",\n  \"rows\": 8,\n  \"fields\": [\n    {\n      \"column\": \"Person ID\",\n      \"properties\": {\n        \"dtype\": \"number\",\n        \"std\": 134.48675537725623,\n        \"min\": 1.0,\n        \"max\": 374.0,\n        \"num_unique_values\": 6,\n        \"samples\": [\n          374.0,\n          187.5,\n          280.75\n        ],\n        \"semantic_type\": \"\",\n        \"description\": \"\"\n      }\n    },\n    {\n      \"column\": \"Age\",\n      \"properties\": {\n        \"dtype\": \"number\",\n        \"std\": 119.80638994107831,\n        \"min\": 8.67313346554724,\n        \"max\": 374.0,\n        \"num_unique_values\": 8,\n        \"samples\": [\n          42.18449197860963,\n          43.0,\n          374.0\n        ],\n        \"semantic_type\": \"\",\n        \"description\": \"\"\n      }\n    },\n    {\n      \"column\": \"Sleep Duration\",\n      \"properties\": {\n        \"dtype\": \"number\",\n        \"std\": 130.04692192905955,\n        \"min\": 0.7956567308898188,\n        \"max\": 374.0,\n        \"num_unique_values\": 8,\n        \"samples\": [\n          7.132085561497325,\n          7.2,\n          374.0\n        ],\n        \"semantic_type\": \"\",\n        \"description\": \"\"\n      }\n    },\n    {\n      \"column\": \"Quality of Sleep\",\n      \"properties\": {\n        \"dtype\": \"number\",\n        \"std\": 130.1053746485686,\n        \"min\": 1.1969559197336044,\n        \"max\": 374.0,\n        \"num_unique_values\": 8,\n        \"samples\": [\n          7.31283422459893,\n          7.0,\n          374.0\n        ],\n        \"semantic_type\": \"\",\n        \"description\": \"\"\n      }\n    },\n    {\n      \"column\": \"Physical Activity Level\",\n      \"properties\": {\n        \"dtype\": \"number\",\n        \"std\": 115.26136820473155,\n        \"min\": 20.830803658071673,\n        \"max\": 374.0,\n        \"num_unique_values\": 8,\n        \"samples\": [\n          59.17112299465241,\n          60.0,\n          374.0\n        ],\n        \"semantic_type\": \"\",\n        \"description\": \"\"\n      }\n    },\n    {\n      \"column\": \"Stress Level\",\n      \"properties\": {\n        \"dtype\": \"number\",\n        \"std\": 130.5192212721048,\n        \"min\": 1.7745264441985167,\n        \"max\": 374.0,\n        \"num_unique_values\": 8,\n        \"samples\": [\n          5.385026737967914,\n          5.0,\n          374.0\n        ],\n        \"semantic_type\": \"\",\n        \"description\": \"\"\n      }\n    },\n    {\n      \"column\": \"Heart Rate\",\n      \"properties\": {\n        \"dtype\": \"number\",\n        \"std\": 112.93122751659772,\n        \"min\": 4.135675535112214,\n        \"max\": 374.0,\n        \"num_unique_values\": 8,\n        \"samples\": [\n          70.16577540106952,\n          70.0,\n          374.0\n        ],\n        \"semantic_type\": \"\",\n        \"description\": \"\"\n      }\n    },\n    {\n      \"column\": \"Daily Steps\",\n      \"properties\": {\n        \"dtype\": \"number\",\n        \"std\": 3333.253019909254,\n        \"min\": 374.0,\n        \"max\": 10000.0,\n        \"num_unique_values\": 8,\n        \"samples\": [\n          6816.844919786096,\n          7000.0,\n          374.0\n        ],\n        \"semantic_type\": \"\",\n        \"description\": \"\"\n      }\n    }\n  ]\n}"
            }
          },
          "metadata": {}
        },
        {
          "output_type": "stream",
          "name": "stdout",
          "text": [
            "\n",
            "Gender: ['Male' 'Female']\n",
            "\n",
            "Occupation: ['Software Engineer' 'Doctor' 'Sales Representative' 'Teacher' 'Nurse'\n",
            " 'Engineer' 'Accountant' 'Scientist' 'Lawyer' 'Salesperson' 'Manager']\n",
            "\n",
            "BMI Category: ['Overweight' 'Normal' 'Obese' 'Normal Weight']\n",
            "\n",
            "Sleep Disorder: [nan 'Sleep Apnea' 'Insomnia']\n",
            "\n"
          ]
        }
      ]
    },
    {
      "cell_type": "code",
      "source": [
        "data['Blood Pressure'][:5]"
      ],
      "metadata": {
        "colab": {
          "base_uri": "https://localhost:8080/",
          "height": 241
        },
        "id": "lO8WZynorq0a",
        "outputId": "b763d3ed-9082-4373-85ec-1ca4e30e0985"
      },
      "execution_count": 8,
      "outputs": [
        {
          "output_type": "execute_result",
          "data": {
            "text/plain": [
              "0    126/83\n",
              "1    125/80\n",
              "2    125/80\n",
              "3    140/90\n",
              "4    140/90\n",
              "Name: Blood Pressure, dtype: object"
            ],
            "text/html": [
              "<div>\n",
              "<style scoped>\n",
              "    .dataframe tbody tr th:only-of-type {\n",
              "        vertical-align: middle;\n",
              "    }\n",
              "\n",
              "    .dataframe tbody tr th {\n",
              "        vertical-align: top;\n",
              "    }\n",
              "\n",
              "    .dataframe thead th {\n",
              "        text-align: right;\n",
              "    }\n",
              "</style>\n",
              "<table border=\"1\" class=\"dataframe\">\n",
              "  <thead>\n",
              "    <tr style=\"text-align: right;\">\n",
              "      <th></th>\n",
              "      <th>Blood Pressure</th>\n",
              "    </tr>\n",
              "  </thead>\n",
              "  <tbody>\n",
              "    <tr>\n",
              "      <th>0</th>\n",
              "      <td>126/83</td>\n",
              "    </tr>\n",
              "    <tr>\n",
              "      <th>1</th>\n",
              "      <td>125/80</td>\n",
              "    </tr>\n",
              "    <tr>\n",
              "      <th>2</th>\n",
              "      <td>125/80</td>\n",
              "    </tr>\n",
              "    <tr>\n",
              "      <th>3</th>\n",
              "      <td>140/90</td>\n",
              "    </tr>\n",
              "    <tr>\n",
              "      <th>4</th>\n",
              "      <td>140/90</td>\n",
              "    </tr>\n",
              "  </tbody>\n",
              "</table>\n",
              "</div><br><label><b>dtype:</b> object</label>"
            ]
          },
          "metadata": {},
          "execution_count": 8
        }
      ]
    },
    {
      "cell_type": "markdown",
      "source": [
        "Key changes in the data\n",
        "1. In the `BMI category` making sure that the ***Normal Weight*** and the ***Normal*** are merged together\n",
        "2. In the `Blood Pressure` column would like to seperate the ***systolic*** and ***Diastolic*** into two differnent colums so that the model can leverage the data seperately"
      ],
      "metadata": {
        "id": "9DT7gikss7qv"
      }
    },
    {
      "cell_type": "code",
      "source": [
        "# Correcting the inconsistency in 'BMI Category'\n",
        "data['BMI Category'].replace({'Normal Weight':'Normal'})\n",
        "\n",
        "# Splitting the 'Blood Pressure' column into 'Systolic' and 'Diastolic' colums\n",
        "data['Systolic'] = data['Blood Pressure'].str.split('/').str[0].astype(int)\n",
        "data['Dystolic'] = data['Blood Pressure'].str.split('/').str[1].astype(int)\n",
        "\n",
        "data = data.drop(['Blood Pressure', 'Person ID'], axis = 1)"
      ],
      "metadata": {
        "id": "Z8sbRWoLt34g"
      },
      "execution_count": 71,
      "outputs": []
    },
    {
      "cell_type": "markdown",
      "source": [
        "### 3. Data Preprocessing"
      ],
      "metadata": {
        "id": "JnfTjaUguyGw"
      }
    },
    {
      "cell_type": "markdown",
      "source": [
        "We are converting the named variables i.e `Gender`, `Occupation`, `BMI Category`, and `Sleep Disorder` into numeric format because the machine learning model better understands the numeric inputs"
      ],
      "metadata": {
        "id": "zs2hyfoJ2Nlh"
      }
    },
    {
      "cell_type": "code",
      "source": [
        "# installing required libraries\n",
        "from sklearn.preprocessing import LabelEncoder, StandardScaler\n",
        "\n",
        "X = data.drop(['Sleep Disorder'], axis = 1)\n",
        "y = data['Sleep Disorder']\n",
        "\n",
        "# Label encoding for categorical variables in X\n",
        "label_encoder = {} # To store the encoder objects for potential inverse transformation later\n",
        "\n",
        "for col in X.select_dtypes(include = ['object']).columns:\n",
        "  le = LabelEncoder()\n",
        "  X[col] = le.fit_transform(X[col])\n",
        "  label_encoders[col] = le\n",
        "\n",
        "# Encoding the target variable\n",
        "le_target = LabelEncoder()\n",
        "y = le_target.fit_transform(y)\n",
        "\n",
        "X.head(), y[:5]"
      ],
      "metadata": {
        "id": "lmHToAdFwGyf"
      },
      "execution_count": null,
      "outputs": []
    },
    {
      "cell_type": "markdown",
      "source": [
        "### 4. Model Building"
      ],
      "metadata": {
        "id": "ThhNW2Mr2B-3"
      }
    },
    {
      "cell_type": "markdown",
      "source": [
        "#### 4.1 Regularization\n",
        "Inorder to regularize the numeric features as the model better understands the regularized data in a much better way.\n",
        "\n",
        "Thus we are applying `StandardScaler()` to the numeric fetures for the regularization purpose"
      ],
      "metadata": {
        "id": "SisquWPphhTK"
      }
    },
    {
      "cell_type": "code",
      "source": [
        "# Splitting the data\n",
        "X_train, X_test, y_train, y_test = train_test_split(X,y, test_size = 0.3, stratify = y, random_state = 42)\n",
        "\n",
        "# Applying Standard to Numeric variables\n",
        "scaler = StandardScaler()\n",
        "\n",
        "X_train_scaled = X_train.copy()\n",
        "X_test_scaled = X_test.copy()\n",
        "# y_train_scaled = y_train.copy()\n",
        "# y_test_scaled = y_test.copy()\n",
        "\n",
        "# List of key numerical variables\n",
        "num_vars = data.select_dtypes(include=['int64', 'float64']).columns.tolist()\n",
        "\n",
        "X_train_scaled[num_vars] = scaler.fit_transform(X_train[num_vars])\n",
        "X_test_scaled[num_vars] = scaler.fit_transform(X_test[num_vars])\n",
        "# y_train_scaled[num_vars] = scaler.fit_transform(y_train[num_vars])\n",
        "# y_test_scaled[num_vars] = scaler.fit_transform(y_test[num_vars])"
      ],
      "metadata": {
        "id": "kA4g7R5JhzDB"
      },
      "execution_count": null,
      "outputs": []
    },
    {
      "cell_type": "code",
      "source": [
        "data[:5]"
      ],
      "metadata": {
        "id": "D7UZnyORdmWu"
      },
      "execution_count": null,
      "outputs": []
    },
    {
      "cell_type": "markdown",
      "source": [
        "#### 4.2 Trainig Function\n",
        "We will train the model on the training data with `cross-validation`. As cross-validation provides an estimate of the model's performance based on multiple splits of the training data, which is more robust because it reduces the risk that the model is only tuned to a specific portion of the data"
      ],
      "metadata": {
        "id": "S6pasU9YiHb8"
      }
    },
    {
      "cell_type": "code",
      "source": [
        "from sklearn.model_selection import cross_val_score\n",
        "import numpy as np\n",
        "\n",
        "# Function to train and validate models\n",
        "def train_and_cross_validate(model, X_train, y_train, cv = 5):\n",
        "  \"\"\"\n",
        "  Function to train the models using cross-validation and return the average score\n",
        "  \"\"\"\n",
        "\n",
        "  scores = cross_val_score(model, X_train_scaled, y_train, cv = cv, scoring='f1_weighted')\n",
        "\n",
        "  print(f\"{model.__class__.__name__} Cross-Validation F1_weighted: {np.mean(scores):.2f} +/- {np.std(scores):.2f}\")\n",
        "  model.fit(X_train, y_train)\n",
        "  return model"
      ],
      "metadata": {
        "id": "BBNgOqSpk2uY"
      },
      "execution_count": null,
      "outputs": []
    },
    {
      "cell_type": "code",
      "source": [],
      "metadata": {
        "id": "zJUW4KsOSTyt"
      },
      "execution_count": null,
      "outputs": []
    },
    {
      "cell_type": "code",
      "source": [
        "from sklearn.ensemble import RandomForestClassifier\n",
        "\n",
        "model1 = RandomForestClassifier()"
      ],
      "metadata": {
        "id": "7nWuGKr0SSyP"
      },
      "execution_count": null,
      "outputs": []
    },
    {
      "cell_type": "code",
      "source": [
        "scores = train_and_cross_validate(model1, X_train_scaled, y_train)"
      ],
      "metadata": {
        "colab": {
          "base_uri": "https://localhost:8080/"
        },
        "id": "K3orzqiAw-OQ",
        "outputId": "fd44c25e-d6ca-467d-9863-178b03a8f698"
      },
      "execution_count": 77,
      "outputs": [
        {
          "output_type": "stream",
          "name": "stdout",
          "text": [
            "RandomForestClassifier Cross-Validation F1_weighted: 0.89 +/- 0.04\n"
          ]
        }
      ]
    },
    {
      "cell_type": "code",
      "source": [
        "from sklearn.metrics import confusion_matrix, ConfusionMatrixDisplay\n",
        "import matplotlib.pyplot as plt\n",
        "\n",
        "\n",
        "def evaluate_and_plot_confusion_matrix(model, X_train, y_train, X_test, y_test, class_names):\n",
        "  \"\"\"\n",
        "  Plot the confusion matrix.\n",
        "  \"\"\"\n",
        "\n",
        "  # Plot confusion matrix\n",
        "  # fig, ax = plt.plot(figsize=(10, 8))\n",
        "  y_pred = model.predict(X_test)\n",
        "  disp = ConfusionMatrixDisplay(confusion_matrix(y_test, y_pred), display_labels=class_names)\n",
        "  disp.plot(cmap=plt.cm.Blues)\n",
        "  disp.im_.colorbar.remove()\n",
        "\n",
        "  # Set the title for the confusion matrix within the figure (using ax)\n",
        "  plt.title(f\"{model.__class__.__name__} Confusion Matrix\")\n",
        "\n",
        "  plt.show()  # Display the plot"
      ],
      "metadata": {
        "id": "Sh6ZBO1SBVdf"
      },
      "execution_count": 78,
      "outputs": []
    },
    {
      "cell_type": "code",
      "source": [
        "class_names = ['None', 'Sleep Apnea', 'Insomnia']\n",
        "\n",
        "evaluate_and_plot_confusion_matrix(model1, X_train_scaled, y_train, X_test_scaled, y_test, class_names)"
      ],
      "metadata": {
        "colab": {
          "base_uri": "https://localhost:8080/",
          "height": 472
        },
        "id": "OGrCPXWwRxK4",
        "outputId": "a862a415-d169-4558-b650-9d9ce98c0873"
      },
      "execution_count": 79,
      "outputs": [
        {
          "output_type": "display_data",
          "data": {
            "text/plain": [
              "<Figure size 640x480 with 1 Axes>"
            ],
            "image/png": "[encoded data removed]"
          },
          "metadata": {}
        }
      ]
    },
    {
      "cell_type": "code",
      "source": [
        "import joblib\n",
        "\n",
        "# Save the label encoders and scaler\n",
        "joblib.dump(label_encoders, 'label_encoders.pkl')\n",
        "joblib.dump(le_target, 'target_encoder.pkl')\n",
        "joblib.dump(scaler, 'scaler.pkl')"
      ],
      "metadata": {
        "colab": {
          "base_uri": "https://localhost:8080/"
        },
        "id": "xCKXbD-0aiQQ",
        "outputId": "edf542c7-a745-4bd4-82be-776d17b5a710"
      },
      "execution_count": 82,
      "outputs": [
        {
          "output_type": "execute_result",
          "data": {
            "text/plain": [
              "['scaler.pkl']"
            ]
          },
          "metadata": {},
          "execution_count": 82
        }
      ]
    },
    {
      "cell_type": "code",
      "source": [
        "import joblib\n",
        "import pandas as pd\n",
        "\n",
        "# Load the saved encoders and scaler\n",
        "label_encoders = joblib.load('label_encoders.pkl')\n",
        "scaler = joblib.load('scaler.pkl')\n",
        "\n",
        "# Define class names for mapping predictions\n",
        "class_names = ['None', 'Sleep Apnea', 'Insomnia']\n",
        "\n",
        "def predict_sleep_disorder(input_data):\n",
        "\n",
        "    input_df = pd.DataFrame([input_data])\n",
        "\n",
        "    if 'Person ID' not in input_df.columns:\n",
        "        input_df['Person ID'] = 0\n",
        "\n",
        "    # Ensure the input data has the same columns as the training data, in the same order\n",
        "    training_columns = ['Person ID', 'Gender', 'Age', 'Occupation', 'Sleep Duration',\n",
        "                        'Quality of Sleep', 'Physical Activity Level', 'Stress Level',\n",
        "                        'BMI Category', 'Heart Rate', 'Daily Steps', 'Systolic', 'Dystolic']\n",
        "    input_df = input_df.reindex(columns=training_columns, fill_value=0)\n",
        "\n",
        "\n",
        "    for col in label_encoders:\n",
        "        if col in input_df.columns:\n",
        "            input_df[col] = label_encoders[col].transform(input_df[col])\n",
        "\n",
        "    num_vars = ['Age', 'Sleep Duration', 'Quality of Sleep', 'Physical Activity Level',\n",
        "                'Stress Level', 'Heart Rate', 'Daily Steps', 'Systolic', 'Dystolic']\n",
        "    input_df[num_vars] = scaler.transform(input_df[num_vars])\n",
        "\n",
        "    # Drop unnecessary columns (e.g., 'Person ID')\n",
        "    input_df = input_df.drop(['Person ID'], axis=1)\n",
        "\n",
        "    # print(\"Preprocessed Input Data:\")\n",
        "    # print(input_df)\n",
        "\n",
        "    prediction = model1.predict(input_df)\n",
        "    # print(f\"Raw Prediction: {prediction}\")\n",
        "\n",
        "    predicted_label = class_names[prediction[0]]\n",
        "\n",
        "    return predicted_label\n",
        "\n",
        "# Example usage:\n",
        "input_data = {\n",
        "    'Gender': 'Male',\n",
        "    'Age': 30,\n",
        "    'Occupation': 'Software Engineer',\n",
        "    'Sleep Duration': 7.5,\n",
        "    'Quality of Sleep': 8,\n",
        "    'Physical Activity Level': 5000,\n",
        "    'Stress Level': 5,\n",
        "    'BMI Category': 'Normal',\n",
        "    'Heart Rate': 70,\n",
        "    'Daily Steps': 8000,\n",
        "    'Systolic': 120,\n",
        "    'Dystolic': 80\n",
        "}\n",
        "\n",
        "predicted_disorder = predict_sleep_disorder(input_data)\n",
        "print(f\"Predicted Sleep Disorder: {predicted_disorder}\")"
      ],
      "metadata": {
        "colab": {
          "base_uri": "https://localhost:8080/"
        },
        "id": "YQAO_VDBbZ0W",
        "outputId": "0b16da28-112c-4580-9359-e43557944ad5"
      },
      "execution_count": 85,
      "outputs": [
        {
          "output_type": "stream",
          "name": "stdout",
          "text": [
            "Predicted Sleep Disorder: Insomnia\n"
          ]
        }
      ]
    },
    {
      "cell_type": "code",
      "source": [
        "def get_user_input():\n",
        "    input_data = {}\n",
        "    input_data['Gender'] = input(\"Enter Gender (Male/Female): \")\n",
        "    input_data['Age'] = int(input(\"Enter Age: \"))\n",
        "    input_data['Occupation'] = input(\"Enter Occupation: \")\n",
        "    input_data['Sleep Duration'] = float(input(\"Enter Sleep Duration (hours): \"))\n",
        "    input_data['Quality of Sleep'] = int(input(\"Enter Quality of Sleep (1-10): \"))\n",
        "    input_data['Physical Activity Level'] = int(input(\"Enter Physical Activity Level (steps): \"))\n",
        "    input_data['Stress Level'] = int(input(\"Enter Stress Level (1-10): \"))\n",
        "    input_data['BMI Category'] = input(\"Enter BMI Category (Normal/Overweight/Obese): \")\n",
        "    input_data['Heart Rate'] = int(input(\"Enter Heart Rate (bpm): \"))\n",
        "    input_data['Daily Steps'] = int(input(\"Enter Daily Steps: \"))\n",
        "    input_data['Systolic'] = int(input(\"Enter Systolic Blood Pressure: \"))\n",
        "    input_data['Dystolic'] = int(input(\"Enter Diastolic Blood Pressure: \"))\n",
        "    input_data['Person ID'] = 0  # Placeholder for 'Person ID'\n",
        "    return input_data\n",
        "\n",
        "# Get user input\n",
        "user_input = get_user_input()\n",
        "\n",
        "# Predict and display the result\n",
        "predicted_disorder = predict_sleep_disorder(user_input)\n",
        "print(f\"Predicted Sleep Disorder: {predicted_disorder}\")"
      ],
      "metadata": {
        "colab": {
          "base_uri": "https://localhost:8080/"
        },
        "id": "qaF2xwUybb8G",
        "outputId": "4fc9262f-f39a-4d19-a795-9b41eef18a5d"
      },
      "execution_count": 86,
      "outputs": [
        {
          "output_type": "stream",
          "name": "stdout",
          "text": [
            "Enter Gender (Male/Female): Male\n",
            "Enter Age: 18\n",
            "Enter Occupation: Doctor\n",
            "Enter Sleep Duration (hours): 3\n",
            "Enter Quality of Sleep (1-10): 4\n",
            "Enter Physical Activity Level (steps): 5000\n",
            "Enter Stress Level (1-10): 10\n",
            "Enter BMI Category (Normal/Overweight/Obese): Obese\n",
            "Enter Heart Rate (bpm): 77\n",
            "Enter Daily Steps: 5000\n",
            "Enter Systolic Blood Pressure: 120\n",
            "Enter Diastolic Blood Pressure: 80\n",
            "Predicted Sleep Disorder: Insomnia\n"
          ]
        }
      ]
    },
    {
      "cell_type": "code",
      "source": [],
      "metadata": {
        "id": "UM2f7pb4e8uT"
      },
      "execution_count": null,
      "outputs": []
    }
  ]
}